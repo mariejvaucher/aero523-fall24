{
 "cells": [
  {
   "cell_type": "markdown",
   "metadata": {},
   "source": [
    "# Introduction to JAX"
   ]
  },
  {
   "cell_type": "markdown",
   "metadata": {},
   "source": [
    "### **First order derivative**"
   ]
  },
  {
   "cell_type": "markdown",
   "metadata": {},
   "source": [
    "JAX is Python library that allows you, among others, to compute derivatives of functions automatically. Here is a toy example on how to use the jax.grad function. We compute both analytic and automatic differentiation of the following function: \n",
    "\n",
    "$$f(x)=\\exp{(\\sin(\\frac{2 \\pi x}{3}))}$$"
   ]
  },
  {
   "cell_type": "markdown",
   "metadata": {},
   "source": [
    "From which the derivative is : $$f^{'}(x) = \\frac{2 \\pi}{3} cos(\\frac{2 \\pi x}{3}) \\exp(sin(\\frac{2 \\pi x}{3}))$$"
   ]
  },
  {
   "cell_type": "markdown",
   "metadata": {},
   "source": [
    "First we define the function and its derivative and plot $f$."
   ]
  },
  {
   "cell_type": "code",
   "execution_count": null,
   "metadata": {},
   "outputs": [],
   "source": [
    "import jax\n",
    "import jax.numpy as jnp\n",
    "\n",
    "import numpy as np\n",
    "import matplotlib.pyplot as plt\n",
    "\n",
    "\n",
    "def func(x):\n",
    "    arg = jnp.sin(2 * jnp.pi * x / 3)\n",
    "    return jnp.exp(arg)\n",
    "\n",
    "\n",
    "def symbolic_grad(x):\n",
    "    arg = 2 * jnp.pi * x / 3\n",
    "    return 2 * jnp.pi / 3 * jnp.exp(jnp.sin(arg)) * jnp.cos(arg)\n",
    "\n",
    "\n",
    "x = jnp.linspace(-3, 3, 100)\n",
    "plt.plot(x, func(x))\n",
    "plt.xlabel(r\"$x$\")\n",
    "plt.ylabel(r\"$f(x)$\")\n",
    "plt.xlim(x.min(), x.max())"
   ]
  },
  {
   "cell_type": "markdown",
   "metadata": {},
   "source": [
    "Then we define the derivative function with jax.grad and we check that both the hand-derived function and the automatic differentiated function match for a random value of $x$."
   ]
  },
  {
   "cell_type": "code",
   "execution_count": null,
   "metadata": {},
   "outputs": [],
   "source": [
    "grad_func = jax.grad(func)\n",
    "print(grad_func(0.5))\n",
    "np.testing.assert_allclose(grad_func(0.5), symbolic_grad(0.5)) #This tests if the two arguments (arrays) are matching one another within a tolerance."
   ]
  },
  {
   "cell_type": "markdown",
   "metadata": {},
   "source": [
    "Now that we are confident with the implementation of the gradient function we can also check the matching of both for multiple values of $x$. \n",
    "In this regard we plot both functions and compare the plots."
   ]
  },
  {
   "cell_type": "code",
   "execution_count": null,
   "metadata": {},
   "outputs": [],
   "source": [
    "plt.plot(x, jax.vmap(grad_func)(x), label=\"AD\")\n",
    "plt.plot(x, symbolic_grad(x), \"--\", label=\"symbolic\")\n",
    "plt.xlabel(r\"$x$\")\n",
    "plt.ylabel(r\"$\\mathrm{d} f(x) / \\mathrm{d} x$\")\n",
    "plt.xlim(x.min(), x.max())\n",
    "plt.legend()"
   ]
  },
  {
   "cell_type": "markdown",
   "metadata": {},
   "source": [
    "You can see that both functions perfectly match. "
   ]
  },
  {
   "cell_type": "markdown",
   "metadata": {},
   "source": [
    "### **Higher order derivatives** "
   ]
  },
  {
   "cell_type": "markdown",
   "metadata": {},
   "source": [
    "You can obtain higher order derivatives following the same process. In this section we compute the second order derivative of the function defined above :\n",
    "$$f^{''}(x) = \\left(\\frac{2 \\pi}{3}\\right)^{2} \\left(cos(\\frac{2 \\pi x}{3})^{2} \\exp(sin(\\frac{2 \\pi x}{3})) - sin(\\frac{2 \\pi x}{3}) \\exp(sin(\\frac{2 \\pi x}{3})) \\right) $$"
   ]
  },
  {
   "cell_type": "code",
   "execution_count": null,
   "metadata": {},
   "outputs": [],
   "source": [
    "def symbolic_grad_grad(x):\n",
    "    arg = 2 * jnp.pi * x / 3\n",
    "    u = jnp.exp(jnp.sin(arg))\n",
    "    u_prime = 2 * jnp.pi / 3 * jnp.cos(arg) * jnp.exp(jnp.sin(arg))\n",
    "    v = jnp.cos(arg)\n",
    "    v_prime = -2 * jnp.pi / 3 * jnp.sin(arg)\n",
    "    return 2 * jnp.pi / 3 * (u_prime * v + u * v_prime)\n"
   ]
  },
  {
   "cell_type": "markdown",
   "metadata": {},
   "source": [
    "Same as before we use jax.grad to obtain the derivative of the derivative."
   ]
  },
  {
   "cell_type": "code",
   "execution_count": null,
   "metadata": {},
   "outputs": [],
   "source": [
    "grad_grad_func = jax.grad(jax.grad(func))\n",
    "print(grad_grad_func(0.5))\n",
    "np.testing.assert_allclose(grad_grad_func(0.5), symbolic_grad_grad(0.5)) #This tests if the two arguments (arrays) are matching one another within a tolerance."
   ]
  },
  {
   "cell_type": "markdown",
   "metadata": {},
   "source": [
    "We plot the symbolic function and the one obtained with JAX and compare both on a plot"
   ]
  },
  {
   "cell_type": "code",
   "execution_count": null,
   "metadata": {},
   "outputs": [],
   "source": [
    "plt.plot(x, jax.vmap(grad_grad_func)(x), label=\"AD\")\n",
    "plt.plot(x, symbolic_grad_grad(x), \"--\", label=\"symbolic\")\n",
    "plt.xlabel(r\"$x$\")\n",
    "plt.ylabel(r\"$\\mathrm{d} f^{2}(x) / \\mathrm{d} x^{2}$\")\n",
    "plt.xlim(x.min(), x.max())\n",
    "plt.legend()"
   ]
  },
  {
   "cell_type": "markdown",
   "metadata": {},
   "source": [
    "# One application : gradient based optimization\n",
    "\n"
   ]
  },
  {
   "cell_type": "markdown",
   "metadata": {},
   "source": [
    "So far we have been presenting how to automatically compute the gradient of a function with JAX. In this section we present a toy example of gradient based optimization.  \n",
    "The optimization method is a gradient descent method : you start at $x_0$ and evaluate gradient at this point.  \n",
    "We use a fixed learning rate to update the $x_k$ position at every step according to : $x_{k+1} = x_k - \\alpha _k f^{'}(x_k)$.  \n",
    "The gradient $f^{'}(x_k)$ of the objective function is obtained through automatic differentiation with JAX. The value of the learning rate $\\alpha _k$ is arbitrary but should be $\\in ]0,1]$"
   ]
  },
  {
   "cell_type": "code",
   "execution_count": null,
   "metadata": {},
   "outputs": [],
   "source": [
    "import jax\n",
    "import jax.numpy as jnp\n",
    "\n",
    "import numpy as np\n",
    "import matplotlib.pyplot as plt"
   ]
  },
  {
   "cell_type": "markdown",
   "metadata": {},
   "source": [
    "The objective function we are trying to minimize is a quadratic function."
   ]
  },
  {
   "cell_type": "code",
   "execution_count": null,
   "metadata": {},
   "outputs": [],
   "source": [
    "def f_ref(x):\n",
    "    f = x**2 + 3*x - 5\n",
    "    return f"
   ]
  },
  {
   "cell_type": "markdown",
   "metadata": {},
   "source": [
    "The gradient function is defined with jax.grad\n"
   ]
  },
  {
   "cell_type": "code",
   "execution_count": null,
   "metadata": {},
   "outputs": [],
   "source": [
    "grad_function = jax.grad(f_ref)"
   ]
  },
  {
   "cell_type": "markdown",
   "metadata": {},
   "source": [
    "We compute a very simple gradient descent method where you update the position of the minimum depending on the value of the gradient at the current $x_k$. "
   ]
  },
  {
   "cell_type": "code",
   "execution_count": null,
   "metadata": {},
   "outputs": [],
   "source": [
    "def optimizer(x0,f,grad_function,tol):\n",
    "\n",
    "    gradient_f = grad_function(x0)\n",
    "    x_k = x0\n",
    "    alpha_zero = 0.07\n",
    "    iter = 0\n",
    "\n",
    "    alpha_k = alpha_zero\n",
    "\n",
    "    while abs(gradient_f) > tol :\n",
    "        \n",
    "        x_k = x_k - alpha_k * gradient_f\n",
    "        gradient_f = grad_function(x_k)\n",
    "        iter+=1\n",
    "\n",
    "    return(x_k,f(x_k),iter)\n",
    "    "
   ]
  },
  {
   "cell_type": "markdown",
   "metadata": {},
   "source": [
    "Let's now run the optimizer for which we provide the gradient function defined above and print the $x_{min}$ found."
   ]
  },
  {
   "cell_type": "code",
   "execution_count": null,
   "metadata": {},
   "outputs": [
    {
     "name": "stdout",
     "output_type": "stream",
     "text": [
      "-1.5004565 -7.25 51\n"
     ]
    }
   ],
   "source": [
    "x_min,f_min,iter = optimizer(-2.5,f_ref,grad_function,1e-3)\n",
    "print(x_min,f_min,iter)"
   ]
  },
  {
   "cell_type": "markdown",
   "metadata": {},
   "source": [
    "As you can see this method is extremely inefficient especially with fixed rates. The closer you get to the solution, the closer the gradient goes to zero and the smaller the step you take is.  \n",
    "There is no reason to use gradient descent in optimization but it is not in the scope of this class to present more efficient methods. "
   ]
  }
 ],
 "metadata": {
  "kernelspec": {
   "display_name": "base",
   "language": "python",
   "name": "python3"
  },
  "language_info": {
   "codemirror_mode": {
    "name": "ipython",
    "version": 3
   },
   "file_extension": ".py",
   "mimetype": "text/x-python",
   "name": "python",
   "nbconvert_exporter": "python",
   "pygments_lexer": "ipython3",
   "version": "3.10.9"
  }
 },
 "nbformat": 4,
 "nbformat_minor": 2
}
