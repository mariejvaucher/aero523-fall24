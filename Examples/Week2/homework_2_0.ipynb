{
 "cells": [
  {
   "cell_type": "markdown",
   "metadata": {},
   "source": [
    "# Homework 2 code solution"
   ]
  },
  {
   "cell_type": "markdown",
   "metadata": {},
   "source": [
    "### Finite-difference formulas with JAX"
   ]
  },
  {
   "cell_type": "markdown",
   "metadata": {},
   "source": [
    "In this question you are asked to evaluate the coefficients for the first derivative $\\frac{\\partial u}{\\partial x}$ using the Lagrange interpolating polynomials. For this purpose we use the code provided in Week $2$."
   ]
  },
  {
   "cell_type": "code",
   "execution_count": 1,
   "metadata": {},
   "outputs": [],
   "source": [
    "import numpy as np\n",
    "import jax\n",
    "import jax.numpy as jnp\n",
    "\n",
    "\n",
    "jax.config.update(\"jax_enable_x64\", True)\n",
    "\n",
    "import matplotlib.pyplot as plt\n",
    "import matplotlib_inline\n",
    "\n",
    "matplotlib_inline.backend_inline.set_matplotlib_formats(\"pdf\", \"svg\")\n",
    "\n",
    "import niceplots\n",
    "\n",
    "plt.style.use(niceplots.get_style())\n",
    "colors = niceplots.get_colors_list()"
   ]
  },
  {
   "cell_type": "code",
   "execution_count": 2,
   "metadata": {},
   "outputs": [],
   "source": [
    "def get_lagrange_func(xPoints, i):\n",
    "    \"\"\"Create a function that computes the ith Lagrange polynomial for a given set of points.\n",
    "\n",
    "    Parameters\n",
    "    ----------\n",
    "    xPoints : list/array of floats\n",
    "        X coordinate values of the points to be interpolated\n",
    "    i : int\n",
    "        The index of the lagrange polynomial to create (must be between 0 and len(x)-1)\n",
    "\n",
    "    Returns\n",
    "    -------\n",
    "    function\n",
    "        A function that computes the ith Lagrange polynomial for a given x value, e.g. L_i(x)\n",
    "    \"\"\"\n",
    "\n",
    "    def lagrange_poly(x):\n",
    "        result = 1.0\n",
    "        N = len(xPoints)\n",
    "        for j in range(N):\n",
    "            if j != i:\n",
    "                result *= (x - xPoints[j]) / (xPoints[i] - xPoints[j])\n",
    "        return result\n",
    "\n",
    "    return lagrange_poly"
   ]
  },
  {
   "cell_type": "markdown",
   "metadata": {},
   "source": [
    "To obtain a finite difference scheme from the interpolating polynomial, we can simply take the derivative of the polynomial and evaluate it at the point of interest. e.g. for the first derivative:\n",
    "\n",
    "$$\\frac{dp}{dx} = \\sum_{i=0}^{N-1} f_i \\frac{dL_i}{dx}$$\n",
    "\n",
    "$$\\left.\\frac{df}{dx}\\right|_{x^*} \\approx \\left.\\frac{dp}{dx}\\right|_{x^*} = \\left.\\frac{dL_0}{dx}\\right|_{x^*} f_0 + \\left.\\frac{dL_1}{dx}\\right|_{x^*} f_1 +...$$\n"
   ]
  },
  {
   "cell_type": "markdown",
   "metadata": {},
   "source": [
    "First we define the position of the points for which we want to define the Lagrange polynomials."
   ]
  },
  {
   "cell_type": "code",
   "execution_count": 3,
   "metadata": {},
   "outputs": [],
   "source": [
    "h = 1\n",
    "xPoints=[0,h,2*h,3*h]"
   ]
  },
  {
   "cell_type": "markdown",
   "metadata": {},
   "source": [
    "Then we compute the Lagrange polynomial at each point. Note that we do not need to know $f_0$,$f_1$, etc."
   ]
  },
  {
   "cell_type": "code",
   "execution_count": 4,
   "metadata": {},
   "outputs": [],
   "source": [
    "pol_0=get_lagrange_func(xPoints,0)\n",
    "pol_1=get_lagrange_func(xPoints,1)\n",
    "pol_2=get_lagrange_func(xPoints,2)\n",
    "pol_3=get_lagrange_func(xPoints,3)"
   ]
  },
  {
   "cell_type": "markdown",
   "metadata": {},
   "source": [
    "Now we want to compute the coefficients for the first derivative so we simply derive each polynomial with JAX."
   ]
  },
  {
   "cell_type": "code",
   "execution_count": 5,
   "metadata": {},
   "outputs": [],
   "source": [
    "coef_0=jax.grad(pol_0)\n",
    "coef_1=jax.grad(pol_1)\n",
    "coef_2=jax.grad(pol_2)\n",
    "coef_3=jax.grad(pol_3)"
   ]
  },
  {
   "cell_type": "markdown",
   "metadata": {},
   "source": [
    "Now we evaluate these coefficient at the point of interest. In our case we want the derivative at $x=0$."
   ]
  },
  {
   "cell_type": "code",
   "execution_count": 6,
   "metadata": {},
   "outputs": [
    {
     "name": "stdout",
     "output_type": "stream",
     "text": [
      "-1.8333333333333333\n",
      "3.0\n",
      "-1.5\n",
      "0.3333333333333333\n"
     ]
    }
   ],
   "source": [
    "print(coef_0(0.0))\n",
    "print(coef_1(0.0))\n",
    "print(coef_2(0.0))\n",
    "print(coef_3(0.0))"
   ]
  },
  {
   "cell_type": "markdown",
   "metadata": {},
   "source": [
    "In the first problem you should have find the following coefficients: $$a_0=-\\frac{11}{6h}, a_1=\\frac{3}{h}, a_2=-\\frac{3}{2h}, a_3=\\frac{1}{3h}$$\n",
    "If we take $h=1$ we obtain the values above."
   ]
  },
  {
   "cell_type": "markdown",
   "metadata": {},
   "source": [
    "Now in the second question you are asked to do the same for the second derivative. The process is exactly the same except that now we take the second derivative for each Lagrange polynomial."
   ]
  },
  {
   "cell_type": "code",
   "execution_count": 7,
   "metadata": {},
   "outputs": [
    {
     "name": "stdout",
     "output_type": "stream",
     "text": [
      "2.0\n",
      "-5.0\n",
      "4.0\n",
      "-0.9999999999999999\n"
     ]
    }
   ],
   "source": [
    "double_coef_0=jax.grad(jax.grad(pol_0))\n",
    "double_coef_1=jax.grad(jax.grad(pol_1))\n",
    "double_coef_2=jax.grad(jax.grad(pol_2))\n",
    "double_coef_3=jax.grad(jax.grad(pol_3))\n",
    "\n",
    "print(double_coef_0(0.0))\n",
    "print(double_coef_1(0.0))\n",
    "print(double_coef_2(0.0))\n",
    "print(double_coef_3(0.0))"
   ]
  }
 ],
 "metadata": {
  "kernelspec": {
   "display_name": "base",
   "language": "python",
   "name": "python3"
  },
  "language_info": {
   "codemirror_mode": {
    "name": "ipython",
    "version": 3
   },
   "file_extension": ".py",
   "mimetype": "text/x-python",
   "name": "python",
   "nbconvert_exporter": "python",
   "pygments_lexer": "ipython3",
   "version": "3.11.9"
  }
 },
 "nbformat": 4,
 "nbformat_minor": 2
}
