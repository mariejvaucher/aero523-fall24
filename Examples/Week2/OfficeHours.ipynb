{
 "cells": [
  {
   "cell_type": "markdown",
   "metadata": {},
   "source": [
    "# Examples from office hours: Week 2"
   ]
  },
  {
   "cell_type": "markdown",
   "metadata": {},
   "source": [
    "In python, it is easy to create a alternative version of a function where some of the input values are fixed."
   ]
  },
  {
   "cell_type": "code",
   "execution_count": 1,
   "metadata": {},
   "outputs": [
    {
     "name": "stdout",
     "output_type": "stream",
     "text": [
      "func(1., 2., 3.)=5.0\n",
      "another_func(1.)=5.0\n",
      "yet_another_func(1.)=5.0\n"
     ]
    }
   ],
   "source": [
    "# This function takes 3 inputs\n",
    "def func(x, x0, y0):\n",
    "    return x0 + y0 * x\n",
    "\n",
    "\n",
    "print(f\"{func(1., 2., 3.)=}\")\n",
    "\n",
    "# Now I want to create a version of func where x0 and y0 are fixed and x is the only input\n",
    "xFixed = 2.0\n",
    "yFixed = 3.0\n",
    "\n",
    "\n",
    "# I can do this by writing a new function that calls func with the fixed values\n",
    "def another_func(x):\n",
    "    return func(x, xFixed, yFixed)\n",
    "\n",
    "\n",
    "print(f\"{another_func(1.)=}\")\n",
    "\n",
    "# There's another way to do the same thing using something called a lambda function\n",
    "yet_another_func = lambda x: func(x, xFixed, yFixed)\n",
    "\n",
    "print(f\"{yet_another_func(1.)=}\")"
   ]
  }
 ],
 "metadata": {
  "kernelspec": {
   "display_name": "AE523",
   "language": "python",
   "name": "python3"
  },
  "language_info": {
   "codemirror_mode": {
    "name": "ipython",
    "version": 3
   },
   "file_extension": ".py",
   "mimetype": "text/x-python",
   "name": "python",
   "nbconvert_exporter": "python",
   "pygments_lexer": "ipython3",
   "version": "3.11.3"
  },
  "orig_nbformat": 4
 },
 "nbformat": 4,
 "nbformat_minor": 2
}
