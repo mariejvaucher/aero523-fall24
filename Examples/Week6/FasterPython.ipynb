{
    "cells": [
        {
            "cell_type": "markdown",
            "metadata": {},
            "source": [
                "# How to write fast (or slow) Python code"
            ]
        },
        {
            "cell_type": "code",
            "execution_count": 26,
            "metadata": {},
            "outputs": [],
            "source": [
                "import jax\n",
                "import jax.numpy as jnp\n",
                "\n",
                "jax.config.update(\"jax_enable_x64\", True)\n",
                "\n",
                "import numpy as np"
            ]
        },
        {
            "cell_type": "markdown",
            "metadata": {},
            "source": [
                "## Avoid large python loops"
            ]
        },
        {
            "cell_type": "code",
            "execution_count": 27,
            "metadata": {},
            "outputs": [
                {
                    "name": "stdout",
                    "output_type": "stream",
                    "text": [
                        "3.38 s ± 91.3 ms per loop (mean ± std. dev. of 7 runs, 1 loop each)\n"
                    ]
                }
            ],
            "source": [
                "def matMult(A, B):\n",
                "    C = np.zeros((A.shape[0], B.shape[1]))\n",
                "\n",
                "    for i in range(A.shape[0]):\n",
                "        for j in range(B.shape[1]):\n",
                "            for k in range(A.shape[1]):\n",
                "                C[i, j] += A[i, k] * B[k, j]\n",
                "    return C\n",
                "\n",
                "\n",
                "N = 100\n",
                "M = 200\n",
                "K = 300\n",
                "A = np.random.rand(N, M)\n",
                "B = np.random.rand(M, K)\n",
                "\n",
                "%timeit matMult(A,B)"
            ]
        },
        {
            "cell_type": "markdown",
            "metadata": {},
            "source": [
                "Now let's compare that to NumPy's matrix-matrix multiplication with the same matrices:"
            ]
        },
        {
            "cell_type": "code",
            "execution_count": 28,
            "metadata": {},
            "outputs": [
                {
                    "name": "stdout",
                    "output_type": "stream",
                    "text": [
                        "567 µs ± 69.5 µs per loop (mean ± std. dev. of 7 runs, 1,000 loops each)\n"
                    ]
                }
            ],
            "source": [
                "%timeit A @ B"
            ]
        },
        {
            "cell_type": "markdown",
            "metadata": {},
            "source": [
                "Numpy is literally 10,000x faster than our python code!"
            ]
        },
        {
            "cell_type": "markdown",
            "metadata": {},
            "source": [
                "## When using JAX, avoid modifying array values in place"
            ]
        },
        {
            "cell_type": "code",
            "execution_count": 29,
            "metadata": {},
            "outputs": [
                {
                    "name": "stdout",
                    "output_type": "stream",
                    "text": [
                        "2.99 s ± 297 ms per loop (mean ± std. dev. of 7 runs, 1 loop each)\n"
                    ]
                }
            ],
            "source": [
                "# Define the symbolic function q(x)\n",
                "def q(x, y, Lx, Ly, kappa, coeff):\n",
                "    return (x / Lx * (1 - x / Lx) + y / Ly * (1 - y / Ly)) * (2 * coeff)\n",
                "\n",
                "\n",
                "def heat_conduction_2D_slow(Lx=2.0, Ly=1.0, Nx=10, Ny=5, kappa=0.5, coeff=1.0, T0=0.0):\n",
                "    dx = Lx / Nx  # Grid spacing in the x-direction\n",
                "    dy = Ly / Ny  # Grid spacing in the y-direction\n",
                "\n",
                "    assert dx == dy, \"dx must be equal to dy for the 9-point stencil to work\"\n",
                "\n",
                "    h = dx\n",
                "\n",
                "    # Create a 2D grid of x and y coordinates\n",
                "    x = jnp.linspace(0, Lx, Nx + 1)\n",
                "    y = jnp.linspace(0, Ly, Ny + 1)\n",
                "    Y, X = jnp.meshgrid(y, x)\n",
                "    N = (Nx + 1) * (Ny + 1)\n",
                "    rowOffset = Nx + 1\n",
                "\n",
                "    # Create the Laplacian operator for 2D using finite differences\n",
                "    A = jnp.zeros([N, N])\n",
                "    b = jnp.zeros(N)\n",
                "\n",
                "    for iy in range(1, Ny):\n",
                "        for ix in range(1, Nx):\n",
                "            row = iy * rowOffset + ix  # Current row in matrix\n",
                "            x = ix * dx\n",
                "            y = iy * dy\n",
                "\n",
                "            A = A.at[row, row - rowOffset - 1].set(-1 / (4 * h**2))\n",
                "            A = A.at[row, row - rowOffset].set(-1 / (2 * h**2))\n",
                "            A = A.at[row, row - rowOffset + 1].set(-1 / (4 * h**2))\n",
                "            A = A.at[row, row - 1].set(-1 / (2 * h**2))\n",
                "            A = A.at[row, row].set(3 / h**2)\n",
                "            A = A.at[row, row + 1].set(-1 / (2 * h**2))\n",
                "            A = A.at[row, row + rowOffset - 1].set(-1 / (4 * h**2))\n",
                "            A = A.at[row, row + rowOffset].set(-1 / (2 * h**2))\n",
                "            A = A.at[row, row + rowOffset + 1].set(-1 / (4 * h**2))\n",
                "            b = b.at[row].set(q(x, y, Lx, Ly, kappa, coeff) / kappa)\n",
                "\n",
                "    # enforce boundary conditions\n",
                "    for ix in range(Nx + 1):\n",
                "        i = ix\n",
                "        A = A.at[i, i].set(1.0)\n",
                "        b = b.at[i].set(T0)\n",
                "        i = Ny * (Nx + 1) + ix\n",
                "        A = A.at[i, i].set(1.0)\n",
                "        b = b.at[i].set(T0)\n",
                "    for iy in range(Ny + 1):\n",
                "        i = iy * (Nx + 1)\n",
                "        A = A.at[i, i].set(1.0)\n",
                "        b = b.at[i].set(T0)\n",
                "\n",
                "        i = iy * (Nx + 1) + Nx\n",
                "        A = A.at[i, i].set(1.0)\n",
                "        b = b.at[i].set(T0)\n",
                "\n",
                "    # Solve the linear system\n",
                "    T = jnp.linalg.solve(A, b)\n",
                "    T_out = jnp.reshape(T, (Nx + 1, Ny + 1), order=\"F\")  # reshape into matrix\n",
                "    return T_out, X, Y\n",
                "\n",
                "\n",
                "%timeit heat_conduction_2D_slow(Nx=20, Ny=10)"
            ]
        },
        {
            "cell_type": "code",
            "execution_count": 30,
            "metadata": {},
            "outputs": [
                {
                    "name": "stdout",
                    "output_type": "stream",
                    "text": [
                        "72.5 ms ± 39.8 ms per loop (mean ± std. dev. of 7 runs, 1 loop each)\n",
                        "The fast and slow versions of the code give the same results!\n"
                    ]
                }
            ],
            "source": [
                "def heat_conduction_2D_fast(Lx=2.0, Ly=1.0, Nx=40, Ny=20, kappa=0.5, coeff=1.0, T0=0.0):\n",
                "    dx = Lx / Nx  # Grid spacing in the x-direction\n",
                "    dy = Ly / Ny  # Grid spacing in the y-direction\n",
                "\n",
                "    assert dx == dy, \"dx must be equal to dy for the 9-point stencil to work\"\n",
                "\n",
                "    h = dx\n",
                "\n",
                "    # Create a 2D grid of x and y coordinates\n",
                "    x = jnp.linspace(0, Lx, Nx + 1)\n",
                "    y = jnp.linspace(0, Ly, Ny + 1)\n",
                "    Y, X = jnp.meshgrid(y, x)\n",
                "    N = (Nx + 1) * (Ny + 1)\n",
                "    rowOffset = Nx + 1\n",
                "\n",
                "    # Initialise A matrix as identity so the boundary conditions are already set\n",
                "    A = jnp.eye(N)\n",
                "\n",
                "    # Initialise b vector to all T0 so that boundary condition rows are already set\n",
                "    b = jnp.ones(N) * T0\n",
                "\n",
                "    # Initialise lists that will store the row, column and value of each non-zero element in A related to the non-boundary nodes\n",
                "    Arows = []\n",
                "    Acols = []\n",
                "    Avals = []\n",
                "    bRows = []\n",
                "    bVals = []\n",
                "\n",
                "    weights = [\n",
                "        -0.25 / h**2,\n",
                "        -0.5 / h**2,\n",
                "        -0.25 / h**2,\n",
                "        -0.5 / h**2,\n",
                "        3.0 / h**2,\n",
                "        -0.5 / h**2,\n",
                "        -0.25 / h**2,\n",
                "        -0.5 / h**2,\n",
                "        -0.25 / h**2,\n",
                "    ]\n",
                "\n",
                "    for iy in range(1, Ny):\n",
                "        for ix in range(1, Nx):\n",
                "            row = iy * rowOffset + ix  # Current row in matrix\n",
                "            x = ix * dx\n",
                "            y = iy * dy\n",
                "\n",
                "            Arows += [row] * 9\n",
                "            Acols += [\n",
                "                row - rowOffset - 1,\n",
                "                row - rowOffset,\n",
                "                row - rowOffset + 1,\n",
                "                row - 1,\n",
                "                row,\n",
                "                row + 1,\n",
                "                row + rowOffset - 1,\n",
                "                row + rowOffset,\n",
                "                row + rowOffset + 1,\n",
                "            ]\n",
                "            Avals += weights\n",
                "            bRows.append(row)\n",
                "            bVals.append(q(x, y, Lx, Ly, kappa, coeff) / kappa)\n",
                "\n",
                "    # Now actually set the values in the matrix all in one go\n",
                "    A = A.at[jnp.array(Arows), jnp.array(Acols)].set(jnp.array(Avals))\n",
                "    b = b.at[jnp.array(bRows)].set(jnp.array(bVals))\n",
                "\n",
                "    # Solve the linear system\n",
                "    T = jnp.linalg.solve(A, b)\n",
                "    T_out = jnp.reshape(T, (Nx + 1, Ny + 1), order=\"F\")  # reshape into matrix\n",
                "    return T_out, X, Y\n",
                "\n",
                "\n",
                "%timeit heat_conduction_2D_fast(Nx=20, Ny=10)\n",
                "\n",
                "T_slow = heat_conduction_2D_slow(Nx=20, Ny=10)[0]\n",
                "T_fast = heat_conduction_2D_fast(Nx=20, Ny=10)[0]\n",
                "\n",
                "results_match = jnp.allclose(T_slow, T_fast)\n",
                "if results_match:\n",
                "    print(\"The fast and slow versions of the code give the same results!\")\n",
                "else:\n",
                "    print(\"The fast and slow versions of the code give different results!\")"
            ]
        }
    ],
    "metadata": {
        "kernelspec": {
            "display_name": "AE523",
            "language": "python",
            "name": "python3"
        },
        "language_info": {
            "codemirror_mode": {
                "name": "ipython",
                "version": 3
            },
            "file_extension": ".py",
            "mimetype": "text/x-python",
            "name": "python",
            "nbconvert_exporter": "python",
            "pygments_lexer": "ipython3",
            "version": "3.11.4"
        },
        "orig_nbformat": 4
    },
    "nbformat": 4,
    "nbformat_minor": 2
}
